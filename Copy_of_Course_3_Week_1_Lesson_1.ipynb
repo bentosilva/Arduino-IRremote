{
  "nbformat": 4,
  "nbformat_minor": 0,
  "metadata": {
    "colab": {
      "name": "Copy of Course 3 - Week 1 - Lesson 1.ipynb",
      "provenance": [],
      "collapsed_sections": [],
      "include_colab_link": true
    },
    "kernelspec": {
      "name": "python3",
      "display_name": "Python 3"
    }
  },
  "cells": [
    {
      "cell_type": "markdown",
      "metadata": {
        "id": "view-in-github",
        "colab_type": "text"
      },
      "source": [
        "<a href=\"https://colab.research.google.com/github/bentosilva/Arduino-IRremote/blob/master/Copy_of_Course_3_Week_1_Lesson_1.ipynb\" target=\"_parent\"><img src=\"https://colab.research.google.com/assets/colab-badge.svg\" alt=\"Open In Colab\"/></a>"
      ]
    },
    {
      "cell_type": "code",
      "metadata": {
        "id": "zaCMcjMQifQc",
        "colab_type": "code",
        "outputId": "93ad94bd-1c46-4456-fe0c-8ea53b5cd5f5",
        "colab": {
          "base_uri": "https://localhost:8080/",
          "height": 541
        }
      },
      "source": [
        "from tensorflow.keras.preprocessing.text import Tokenizer\n",
        "\n",
        "sentences = [\n",
        "    'eu não gosto de frango?',\n",
        "    'eu não \"gosto\" de abobrinha.',\n",
        "    'você gosta de laranja!',\n",
        "    'ela gosta de frango!'\n",
        "]\n",
        "\n",
        "tokenizer = Tokenizer(num_words = 100)\n",
        "tokenizer.fit_on_texts(sentences)\n",
        "word_index = tokenizer.word_index\n",
        "print(\"*Tokenization with TensorFlow and Keras:\\n\", word_index)\n",
        "\n",
        "sentence = []\n",
        "word = []\n",
        "print(\"\\n*Corpus of sentences in a list format:\\n\")\n",
        "print(sentences)\n",
        "print()\n",
        "print(\"*Removing punctuations and extraneos characters:\\n\")\n",
        "for s in range(len(sentences)):\n",
        "    sentence.append(sentences[s])\n",
        "    # print(sentence[s])\n",
        "    # Removing punctuation and extraneous characters from a string\n",
        "    # a = \"a!b@c#d$\"\n",
        "    b = \"!@#$?.:,;\\\"\\'\"\n",
        "    for char in b:\n",
        "        sentence[s] = sentence[s].replace(char,\"\")\n",
        "    print(\"Clean sentence: \", sentence[s]+\"\\n\")\n",
        "    # result: \"abcd\"\n",
        "\n",
        "    #for w in range(len(sentence[s].split(\" \"))):\n",
        "    word.append(sentence[s].split(\" \"))\n",
        "    #print(word[s])\n",
        "print(\"*List of sentences:\\n\", sentence, \"\\n\")\n",
        "print(\"*List of words:\\n\", word, \"\\n\")\n",
        "\n",
        "# Flattening a list\n",
        "flattened = [val for sublist in word for val in sublist]\n",
        "\n",
        "# Removing duplicates from a list\n",
        "lista = list(set(flattened))\n",
        "print(\"*List of words with no duplicates:\\n\", lista, \"\\n\")\n",
        "\n",
        "# Creating a dictionary from a list\n",
        "def listToDict(lista):\n",
        "    op = {lista[i] : i for i in range(0, len(lista) ) }\n",
        "    return op\n",
        "\n",
        "print(\"*Dictionary of words:\\n\", listToDict(lista))\n"
      ],
      "execution_count": 86,
      "outputs": [
        {
          "output_type": "stream",
          "text": [
            "*Tokenization with TensorFlow and Keras:\n",
            " {'de': 1, 'eu': 2, 'não': 3, 'gosto': 4, 'frango': 5, 'gosta': 6, 'abobrinha': 7, 'você': 8, 'laranja': 9, 'ela': 10}\n",
            "\n",
            "*Corpus of sentences in a list format:\n",
            "\n",
            "['eu não gosto de frango?', 'eu não \"gosto\" de abobrinha.', 'você gosta de laranja!', 'ela gosta de frango!']\n",
            "\n",
            "*Removing punctuations and extraneos characters:\n",
            "\n",
            "Clean sentence:  eu não gosto de frango\n",
            "\n",
            "Clean sentence:  eu não gosto de abobrinha\n",
            "\n",
            "Clean sentence:  você gosta de laranja\n",
            "\n",
            "Clean sentence:  ela gosta de frango\n",
            "\n",
            "*List of sentences:\n",
            " ['eu não gosto de frango', 'eu não gosto de abobrinha', 'você gosta de laranja', 'ela gosta de frango'] \n",
            "\n",
            "*List of words:\n",
            " [['eu', 'não', 'gosto', 'de', 'frango'], ['eu', 'não', 'gosto', 'de', 'abobrinha'], ['você', 'gosta', 'de', 'laranja'], ['ela', 'gosta', 'de', 'frango']] \n",
            "\n",
            "*List of words with no duplicates:\n",
            " ['não', 'gosta', 'abobrinha', 'eu', 'laranja', 'gosto', 'você', 'ela', 'de', 'frango'] \n",
            "\n",
            "*Dictionary of words:\n",
            " {'não': 0, 'gosta': 1, 'abobrinha': 2, 'eu': 3, 'laranja': 4, 'gosto': 5, 'você': 6, 'ela': 7, 'de': 8, 'frango': 9}\n"
          ],
          "name": "stdout"
        }
      ]
    }
  ]
}